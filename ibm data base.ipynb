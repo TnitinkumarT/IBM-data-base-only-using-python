{
 "cells": [
  {
   "cell_type": "code",
   "execution_count": 1,
   "id": "50880cdd",
   "metadata": {},
   "outputs": [],
   "source": [
    "import pandas as pd\n",
    "import numpy as np"
   ]
  },
  {
   "cell_type": "code",
   "execution_count": 2,
   "id": "01be811d",
   "metadata": {},
   "outputs": [],
   "source": [
    "import pyodbc\n",
    "conn=pyodbc.connect('Driver={SQL Server};'\n",
    "                     \"Server=JISHNU\\GATTU;\"\n",
    "                     \"Database=test1;\"\n",
    "                     \"Trusted_Connection=yes;\")"
   ]
  },
  {
   "cell_type": "markdown",
   "id": "dff4b526",
   "metadata": {},
   "source": [
    "\n",
    "###  Problem 1:Find the total number of crimes recorded in the CRIME table\n"
   ]
  },
  {
   "cell_type": "code",
   "execution_count": 3,
   "id": "ff045054",
   "metadata": {},
   "outputs": [
    {
     "data": {
      "text/html": [
       "<div>\n",
       "<style scoped>\n",
       "    .dataframe tbody tr th:only-of-type {\n",
       "        vertical-align: middle;\n",
       "    }\n",
       "\n",
       "    .dataframe tbody tr th {\n",
       "        vertical-align: top;\n",
       "    }\n",
       "\n",
       "    .dataframe thead th {\n",
       "        text-align: right;\n",
       "    }\n",
       "</style>\n",
       "<table border=\"1\" class=\"dataframe\">\n",
       "  <thead>\n",
       "    <tr style=\"text-align: right;\">\n",
       "      <th></th>\n",
       "      <th></th>\n",
       "    </tr>\n",
       "  </thead>\n",
       "  <tbody>\n",
       "    <tr>\n",
       "      <th>0</th>\n",
       "      <td>533</td>\n",
       "    </tr>\n",
       "  </tbody>\n",
       "</table>\n",
       "</div>"
      ],
      "text/plain": [
       "      \n",
       "0  533"
      ]
     },
     "execution_count": 3,
     "metadata": {},
     "output_type": "execute_result"
    }
   ],
   "source": [
    "crime1=pd.read_sql_query('select count(*)from chicagocrime',conn)\n",
    "crime1"
   ]
  },
  {
   "cell_type": "markdown",
   "id": "1b3e5c89",
   "metadata": {},
   "source": [
    "\n",
    "### Problem 2: List community areas with per capita income less than 11000.\n"
   ]
  },
  {
   "cell_type": "code",
   "execution_count": 4,
   "id": "db153006",
   "metadata": {
    "scrolled": true
   },
   "outputs": [
    {
     "data": {
      "text/html": [
       "<div>\n",
       "<style scoped>\n",
       "    .dataframe tbody tr th:only-of-type {\n",
       "        vertical-align: middle;\n",
       "    }\n",
       "\n",
       "    .dataframe tbody tr th {\n",
       "        vertical-align: top;\n",
       "    }\n",
       "\n",
       "    .dataframe thead th {\n",
       "        text-align: right;\n",
       "    }\n",
       "</style>\n",
       "<table border=\"1\" class=\"dataframe\">\n",
       "  <thead>\n",
       "    <tr style=\"text-align: right;\">\n",
       "      <th></th>\n",
       "      <th>COMMUNITY_AREA_NAME</th>\n",
       "      <th>PER_CAPITA_INCOME</th>\n",
       "    </tr>\n",
       "  </thead>\n",
       "  <tbody>\n",
       "    <tr>\n",
       "      <th>0</th>\n",
       "      <td>West Garfield Park</td>\n",
       "      <td>10934</td>\n",
       "    </tr>\n",
       "    <tr>\n",
       "      <th>1</th>\n",
       "      <td>South Lawndale</td>\n",
       "      <td>10402</td>\n",
       "    </tr>\n",
       "    <tr>\n",
       "      <th>2</th>\n",
       "      <td>Fuller Park</td>\n",
       "      <td>10432</td>\n",
       "    </tr>\n",
       "    <tr>\n",
       "      <th>3</th>\n",
       "      <td>Riverdale</td>\n",
       "      <td>8201</td>\n",
       "    </tr>\n",
       "  </tbody>\n",
       "</table>\n",
       "</div>"
      ],
      "text/plain": [
       "  COMMUNITY_AREA_NAME  PER_CAPITA_INCOME\n",
       "0  West Garfield Park              10934\n",
       "1      South Lawndale              10402\n",
       "2         Fuller Park              10432\n",
       "3           Riverdale               8201"
      ]
     },
     "execution_count": 4,
     "metadata": {},
     "output_type": "execute_result"
    }
   ],
   "source": [
    "comu=pd.read_sql_query('select COMMUNITY_AREA_NAME,PER_CAPITA_INCOME from socioeco where PER_CAPITA_INCOME<11000',conn)\n",
    "comu"
   ]
  },
  {
   "cell_type": "markdown",
   "id": "0b74894d",
   "metadata": {},
   "source": [
    "### Problem 3: List all case numbers for crimes  involving minors?(children are not considered minors for the purposes of crime analysis)\n"
   ]
  },
  {
   "cell_type": "code",
   "execution_count": 5,
   "id": "c677a74b",
   "metadata": {},
   "outputs": [],
   "source": [
    "crime=pd.read_sql_query('select *from chicagocrime',conn)"
   ]
  },
  {
   "cell_type": "code",
   "execution_count": 6,
   "id": "2e3c8e60",
   "metadata": {},
   "outputs": [
    {
     "data": {
      "text/html": [
       "<div>\n",
       "<style scoped>\n",
       "    .dataframe tbody tr th:only-of-type {\n",
       "        vertical-align: middle;\n",
       "    }\n",
       "\n",
       "    .dataframe tbody tr th {\n",
       "        vertical-align: top;\n",
       "    }\n",
       "\n",
       "    .dataframe thead th {\n",
       "        text-align: right;\n",
       "    }\n",
       "</style>\n",
       "<table border=\"1\" class=\"dataframe\">\n",
       "  <thead>\n",
       "    <tr style=\"text-align: right;\">\n",
       "      <th></th>\n",
       "      <th>CASE_NUMBER</th>\n",
       "    </tr>\n",
       "  </thead>\n",
       "  <tbody>\n",
       "    <tr>\n",
       "      <th>514</th>\n",
       "      <td>HL266884</td>\n",
       "    </tr>\n",
       "    <tr>\n",
       "      <th>515</th>\n",
       "      <td>HK238408</td>\n",
       "    </tr>\n",
       "  </tbody>\n",
       "</table>\n",
       "</div>"
      ],
      "text/plain": [
       "    CASE_NUMBER\n",
       "514    HL266884\n",
       "515    HK238408"
      ]
     },
     "execution_count": 6,
     "metadata": {},
     "output_type": "execute_result"
    }
   ],
   "source": [
    "ds=crime.loc[crime['DESCRIPTION'].str.contains('MINOR') ]\n",
    "ds[['CASE_NUMBER']]"
   ]
  },
  {
   "cell_type": "markdown",
   "id": "6661609a",
   "metadata": {},
   "source": [
    "### Problem 4: List all kidnapping crimes involving a child?\n"
   ]
  },
  {
   "cell_type": "code",
   "execution_count": 7,
   "id": "f083a527",
   "metadata": {},
   "outputs": [
    {
     "data": {
      "text/html": [
       "<div>\n",
       "<style scoped>\n",
       "    .dataframe tbody tr th:only-of-type {\n",
       "        vertical-align: middle;\n",
       "    }\n",
       "\n",
       "    .dataframe tbody tr th {\n",
       "        vertical-align: top;\n",
       "    }\n",
       "\n",
       "    .dataframe thead th {\n",
       "        text-align: right;\n",
       "    }\n",
       "</style>\n",
       "<table border=\"1\" class=\"dataframe\">\n",
       "  <thead>\n",
       "    <tr style=\"text-align: right;\">\n",
       "      <th></th>\n",
       "      <th>ID</th>\n",
       "      <th>CASE_NUMBER</th>\n",
       "      <th>DATE</th>\n",
       "      <th>BLOCK</th>\n",
       "      <th>IUCR</th>\n",
       "      <th>PRIMARY_TYPE</th>\n",
       "      <th>DESCRIPTION</th>\n",
       "      <th>LOCATION_DESCRIPTION</th>\n",
       "      <th>ARREST</th>\n",
       "      <th>DOMESTIC</th>\n",
       "      <th>...</th>\n",
       "      <th>WARD</th>\n",
       "      <th>COMMUNITY_AREA_NUMBER</th>\n",
       "      <th>FBICODE</th>\n",
       "      <th>X_COORDINATE</th>\n",
       "      <th>Y_COORDINATE</th>\n",
       "      <th>YEAR</th>\n",
       "      <th>UPDATEDON</th>\n",
       "      <th>LATITUDE</th>\n",
       "      <th>LONGITUDE</th>\n",
       "      <th>LOCATION</th>\n",
       "    </tr>\n",
       "  </thead>\n",
       "  <tbody>\n",
       "    <tr>\n",
       "      <th>520</th>\n",
       "      <td>5276766</td>\n",
       "      <td>HN144152</td>\n",
       "      <td>2007-01-26 10:05:00.0000000</td>\n",
       "      <td>050XX W VAN BUREN ST</td>\n",
       "      <td>1792</td>\n",
       "      <td>KIDNAPPING</td>\n",
       "      <td>CHILD ABDUCTION/STRANGER</td>\n",
       "      <td>STREET</td>\n",
       "      <td>False</td>\n",
       "      <td>False</td>\n",
       "      <td>...</td>\n",
       "      <td>29.0</td>\n",
       "      <td>25.0</td>\n",
       "      <td>20</td>\n",
       "      <td>1143050.0</td>\n",
       "      <td>1897546.0</td>\n",
       "      <td>2007</td>\n",
       "      <td>2018-02-28 15:56:25.0000000</td>\n",
       "      <td>41.874908</td>\n",
       "      <td>-87.750252</td>\n",
       "      <td>(41.874908413, -87.750249307)</td>\n",
       "    </tr>\n",
       "  </tbody>\n",
       "</table>\n",
       "<p>1 rows × 22 columns</p>\n",
       "</div>"
      ],
      "text/plain": [
       "          ID CASE_NUMBER                         DATE                 BLOCK  \\\n",
       "520  5276766    HN144152  2007-01-26 10:05:00.0000000  050XX W VAN BUREN ST   \n",
       "\n",
       "     IUCR PRIMARY_TYPE               DESCRIPTION LOCATION_DESCRIPTION  ARREST  \\\n",
       "520  1792   KIDNAPPING  CHILD ABDUCTION/STRANGER               STREET   False   \n",
       "\n",
       "     DOMESTIC  ...  WARD  COMMUNITY_AREA_NUMBER  FBICODE  X_COORDINATE  \\\n",
       "520     False  ...  29.0                   25.0       20     1143050.0   \n",
       "\n",
       "    Y_COORDINATE  YEAR                    UPDATEDON   LATITUDE  LONGITUDE  \\\n",
       "520    1897546.0  2007  2018-02-28 15:56:25.0000000  41.874908 -87.750252   \n",
       "\n",
       "                          LOCATION  \n",
       "520  (41.874908413, -87.750249307)  \n",
       "\n",
       "[1 rows x 22 columns]"
      ]
     },
     "execution_count": 7,
     "metadata": {},
     "output_type": "execute_result"
    }
   ],
   "source": [
    "crime.loc[(crime['DESCRIPTION'].str.contains('CHILD')) & (crime['PRIMARY_TYPE'].str.contains('KIDNAP'))]"
   ]
  },
  {
   "cell_type": "markdown",
   "id": "1f7f28aa",
   "metadata": {},
   "source": [
    "## Problem 5: What kind of crimes were recorded at schools?\n",
    "\n"
   ]
  },
  {
   "cell_type": "code",
   "execution_count": 8,
   "id": "d251ba97",
   "metadata": {},
   "outputs": [
    {
     "data": {
      "text/html": [
       "<div>\n",
       "<style scoped>\n",
       "    .dataframe tbody tr th:only-of-type {\n",
       "        vertical-align: middle;\n",
       "    }\n",
       "\n",
       "    .dataframe tbody tr th {\n",
       "        vertical-align: top;\n",
       "    }\n",
       "\n",
       "    .dataframe thead th {\n",
       "        text-align: right;\n",
       "    }\n",
       "</style>\n",
       "<table border=\"1\" class=\"dataframe\">\n",
       "  <thead>\n",
       "    <tr style=\"text-align: right;\">\n",
       "      <th></th>\n",
       "      <th>PRIMARY_TYPE</th>\n",
       "    </tr>\n",
       "  </thead>\n",
       "  <tbody>\n",
       "    <tr>\n",
       "      <th>118</th>\n",
       "      <td>BATTERY</td>\n",
       "    </tr>\n",
       "    <tr>\n",
       "      <th>121</th>\n",
       "      <td>BATTERY</td>\n",
       "    </tr>\n",
       "    <tr>\n",
       "      <th>141</th>\n",
       "      <td>BATTERY</td>\n",
       "    </tr>\n",
       "    <tr>\n",
       "      <th>166</th>\n",
       "      <td>BATTERY</td>\n",
       "    </tr>\n",
       "    <tr>\n",
       "      <th>183</th>\n",
       "      <td>BATTERY</td>\n",
       "    </tr>\n",
       "    <tr>\n",
       "      <th>220</th>\n",
       "      <td>CRIMINAL DAMAGE</td>\n",
       "    </tr>\n",
       "    <tr>\n",
       "      <th>263</th>\n",
       "      <td>NARCOTICS</td>\n",
       "    </tr>\n",
       "    <tr>\n",
       "      <th>265</th>\n",
       "      <td>NARCOTICS</td>\n",
       "    </tr>\n",
       "    <tr>\n",
       "      <th>364</th>\n",
       "      <td>ASSAULT</td>\n",
       "    </tr>\n",
       "    <tr>\n",
       "      <th>471</th>\n",
       "      <td>CRIMINAL TRESPASS</td>\n",
       "    </tr>\n",
       "    <tr>\n",
       "      <th>498</th>\n",
       "      <td>PUBLIC PEACE VIOLATION</td>\n",
       "    </tr>\n",
       "    <tr>\n",
       "      <th>499</th>\n",
       "      <td>PUBLIC PEACE VIOLATION</td>\n",
       "    </tr>\n",
       "  </tbody>\n",
       "</table>\n",
       "</div>"
      ],
      "text/plain": [
       "               PRIMARY_TYPE\n",
       "118                 BATTERY\n",
       "121                 BATTERY\n",
       "141                 BATTERY\n",
       "166                 BATTERY\n",
       "183                 BATTERY\n",
       "220         CRIMINAL DAMAGE\n",
       "263               NARCOTICS\n",
       "265               NARCOTICS\n",
       "364                 ASSAULT\n",
       "471       CRIMINAL TRESPASS\n",
       "498  PUBLIC PEACE VIOLATION\n",
       "499  PUBLIC PEACE VIOLATION"
      ]
     },
     "execution_count": 8,
     "metadata": {},
     "output_type": "execute_result"
    }
   ],
   "source": [
    "dr=crime.loc[crime['LOCATION_DESCRIPTION'].str.contains('SCHOOL')]\n",
    "dr[['PRIMARY_TYPE']]\n"
   ]
  },
  {
   "cell_type": "markdown",
   "id": "6836ba38",
   "metadata": {},
   "source": [
    "## Problem 6: List the average safety score for all types of schools.\n",
    "\n"
   ]
  },
  {
   "cell_type": "code",
   "execution_count": 9,
   "id": "c27d59ff",
   "metadata": {},
   "outputs": [],
   "source": [
    "ca=pd.read_sql_query(\"select*from publicschoolchicago\",conn)"
   ]
  },
  {
   "cell_type": "code",
   "execution_count": 10,
   "id": "bd52a6e4",
   "metadata": {},
   "outputs": [
    {
     "data": {
      "text/html": [
       "<div>\n",
       "<style scoped>\n",
       "    .dataframe tbody tr th:only-of-type {\n",
       "        vertical-align: middle;\n",
       "    }\n",
       "\n",
       "    .dataframe tbody tr th {\n",
       "        vertical-align: top;\n",
       "    }\n",
       "\n",
       "    .dataframe thead th {\n",
       "        text-align: right;\n",
       "    }\n",
       "</style>\n",
       "<table border=\"1\" class=\"dataframe\">\n",
       "  <thead>\n",
       "    <tr style=\"text-align: right;\">\n",
       "      <th></th>\n",
       "      <th>SAFETY_SCORE</th>\n",
       "    </tr>\n",
       "    <tr>\n",
       "      <th>Elementary_Middle_or_High_School</th>\n",
       "      <th></th>\n",
       "    </tr>\n",
       "  </thead>\n",
       "  <tbody>\n",
       "    <tr>\n",
       "      <th>ES</th>\n",
       "      <td>49.520384</td>\n",
       "    </tr>\n",
       "    <tr>\n",
       "      <th>HS</th>\n",
       "      <td>49.623529</td>\n",
       "    </tr>\n",
       "    <tr>\n",
       "      <th>MS</th>\n",
       "      <td>48.000000</td>\n",
       "    </tr>\n",
       "  </tbody>\n",
       "</table>\n",
       "</div>"
      ],
      "text/plain": [
       "                                  SAFETY_SCORE\n",
       "Elementary_Middle_or_High_School              \n",
       "ES                                   49.520384\n",
       "HS                                   49.623529\n",
       "MS                                   48.000000"
      ]
     },
     "execution_count": 10,
     "metadata": {},
     "output_type": "execute_result"
    }
   ],
   "source": [
    "cs=ca[['Elementary_Middle_or_High_School','SAFETY_SCORE']]\n",
    "c2= cs.groupby(['Elementary_Middle_or_High_School']).mean()\n",
    "c2"
   ]
  },
  {
   "cell_type": "markdown",
   "id": "41f74b89",
   "metadata": {},
   "source": [
    "## Problem 7: List 5 community areas with highest % of households below poverty line"
   ]
  },
  {
   "cell_type": "code",
   "execution_count": 11,
   "id": "0eac3b3c",
   "metadata": {},
   "outputs": [],
   "source": [
    "s=pd.read_sql_query('select*from socioeco',conn)"
   ]
  },
  {
   "cell_type": "code",
   "execution_count": 12,
   "id": "246f2872",
   "metadata": {},
   "outputs": [
    {
     "data": {
      "text/html": [
       "<div>\n",
       "<style scoped>\n",
       "    .dataframe tbody tr th:only-of-type {\n",
       "        vertical-align: middle;\n",
       "    }\n",
       "\n",
       "    .dataframe tbody tr th {\n",
       "        vertical-align: top;\n",
       "    }\n",
       "\n",
       "    .dataframe thead th {\n",
       "        text-align: right;\n",
       "    }\n",
       "</style>\n",
       "<table border=\"1\" class=\"dataframe\">\n",
       "  <thead>\n",
       "    <tr style=\"text-align: right;\">\n",
       "      <th></th>\n",
       "      <th>COMMUNITY_AREA_NAME</th>\n",
       "      <th>PERCENT_HOUSEHOLDS_BELOW_POVERTY</th>\n",
       "    </tr>\n",
       "  </thead>\n",
       "  <tbody>\n",
       "    <tr>\n",
       "      <th>53</th>\n",
       "      <td>Riverdale</td>\n",
       "      <td>56.500000</td>\n",
       "    </tr>\n",
       "    <tr>\n",
       "      <th>36</th>\n",
       "      <td>Fuller Park</td>\n",
       "      <td>51.200001</td>\n",
       "    </tr>\n",
       "    <tr>\n",
       "      <th>67</th>\n",
       "      <td>Englewood</td>\n",
       "      <td>46.599998</td>\n",
       "    </tr>\n",
       "    <tr>\n",
       "      <th>28</th>\n",
       "      <td>North Lawndale</td>\n",
       "      <td>43.099998</td>\n",
       "    </tr>\n",
       "    <tr>\n",
       "      <th>26</th>\n",
       "      <td>East Garfield Park</td>\n",
       "      <td>42.400002</td>\n",
       "    </tr>\n",
       "  </tbody>\n",
       "</table>\n",
       "</div>"
      ],
      "text/plain": [
       "   COMMUNITY_AREA_NAME  PERCENT_HOUSEHOLDS_BELOW_POVERTY\n",
       "53           Riverdale                         56.500000\n",
       "36         Fuller Park                         51.200001\n",
       "67           Englewood                         46.599998\n",
       "28      North Lawndale                         43.099998\n",
       "26  East Garfield Park                         42.400002"
      ]
     },
     "execution_count": 12,
     "metadata": {},
     "output_type": "execute_result"
    }
   ],
   "source": [
    "sc=s.sort_values('PERCENT_HOUSEHOLDS_BELOW_POVERTY',ascending=False)\n",
    "a=sc[['COMMUNITY_AREA_NAME','PERCENT_HOUSEHOLDS_BELOW_POVERTY']]\n",
    "a.head(5)"
   ]
  },
  {
   "cell_type": "markdown",
   "id": "0afd5c38",
   "metadata": {},
   "source": [
    "## Problem 8: Which community area(number) is most crime prone?"
   ]
  },
  {
   "cell_type": "code",
   "execution_count": 13,
   "id": "1aea8b27",
   "metadata": {},
   "outputs": [
    {
     "data": {
      "text/plain": [
       "25.0    43\n",
       "23.0    22\n",
       "68.0    21\n",
       "Name: COMMUNITY_AREA_NUMBER, dtype: int64"
      ]
     },
     "execution_count": 13,
     "metadata": {},
     "output_type": "execute_result"
    }
   ],
   "source": [
    "x=crime['COMMUNITY_AREA_NUMBER'].value_counts()\n",
    "x.head(3)"
   ]
  },
  {
   "cell_type": "markdown",
   "id": "77365394",
   "metadata": {},
   "source": [
    "## Problem 9: Use a sub-query to find the name of the community area with highest hardship index.\n",
    "\n"
   ]
  },
  {
   "cell_type": "code",
   "execution_count": 14,
   "id": "3d99f6fd",
   "metadata": {},
   "outputs": [
    {
     "data": {
      "text/plain": [
       "53    Riverdale\n",
       "Name: COMMUNITY_AREA_NAME, dtype: object"
      ]
     },
     "execution_count": 14,
     "metadata": {},
     "output_type": "execute_result"
    }
   ],
   "source": [
    "y=s.sort_values('HARDSHIP_INDEX',ascending=False)\n",
    "y['COMMUNITY_AREA_NAME'].head(1)\n"
   ]
  },
  {
   "cell_type": "markdown",
   "id": "06d2f340",
   "metadata": {},
   "source": [
    "## Problem 10: Use a sub-query to determine the Community Area Name with most number of crimes?"
   ]
  },
  {
   "cell_type": "markdown",
   "id": "45ca801e",
   "metadata": {},
   "source": [
    "#### As we know from resent chicago_crime data the most most number of cases are recorded in COMMUNITY_AREA_NUMBER 25(prob.8)"
   ]
  },
  {
   "cell_type": "code",
   "execution_count": 15,
   "id": "9f5a9ab4",
   "metadata": {},
   "outputs": [
    {
     "data": {
      "text/html": [
       "<div>\n",
       "<style scoped>\n",
       "    .dataframe tbody tr th:only-of-type {\n",
       "        vertical-align: middle;\n",
       "    }\n",
       "\n",
       "    .dataframe tbody tr th {\n",
       "        vertical-align: top;\n",
       "    }\n",
       "\n",
       "    .dataframe thead th {\n",
       "        text-align: right;\n",
       "    }\n",
       "</style>\n",
       "<table border=\"1\" class=\"dataframe\">\n",
       "  <thead>\n",
       "    <tr style=\"text-align: right;\">\n",
       "      <th></th>\n",
       "      <th>COMMUNITY_AREA_NAME</th>\n",
       "    </tr>\n",
       "  </thead>\n",
       "  <tbody>\n",
       "    <tr>\n",
       "      <th>0</th>\n",
       "      <td>Austin</td>\n",
       "    </tr>\n",
       "  </tbody>\n",
       "</table>\n",
       "</div>"
      ],
      "text/plain": [
       "  COMMUNITY_AREA_NAME\n",
       "0              Austin"
      ]
     },
     "execution_count": 15,
     "metadata": {},
     "output_type": "execute_result"
    }
   ],
   "source": [
    "sch=pd.read_sql_query('select COMMUNITY_AREA_NAME from socioeco where COMMUNITY_AREA_NUMBER=25',conn)\n",
    "sch"
   ]
  },
  {
   "cell_type": "code",
   "execution_count": null,
   "id": "f6412a2b",
   "metadata": {},
   "outputs": [],
   "source": []
  }
 ],
 "metadata": {
  "kernelspec": {
   "display_name": "Python 3 (ipykernel)",
   "language": "python",
   "name": "python3"
  },
  "language_info": {
   "codemirror_mode": {
    "name": "ipython",
    "version": 3
   },
   "file_extension": ".py",
   "mimetype": "text/x-python",
   "name": "python",
   "nbconvert_exporter": "python",
   "pygments_lexer": "ipython3",
   "version": "3.9.7"
  }
 },
 "nbformat": 4,
 "nbformat_minor": 5
}
